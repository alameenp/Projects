{
 "cells": [
  {
   "cell_type": "markdown",
   "id": "6da1ea37",
   "metadata": {},
   "source": [
    "## Summary\n",
    "\n",
    "### Task 2 Q1)\n",
    "* Approximately 78% of the sessions commence with an action ID linked to 2100, and upon closer investigation on the Trivago website, it seems to correspond to the \"List Page Viewed Event. Assuming that most users start their journey on the website from the listing page\n",
    "\n",
    "### Task 2 Q2)\n",
    "*  **25%** of the sessions concluded with action ID **8001**, followed by **9.5%** of sessions with action ID **2100**.\n",
    "\n",
    "### Task 3 Q3)\n",
    "* The most common actions in sessions with conversions are action IDs 2142, 2160, 2113, 8001 (a Conversion Action), and 2100.\n",
    "* The bar chart suggests that increasing events per session can boost conversions. This can be achieved by offering users more and improved filters and property listings. As a result, users tend to spend more time on the site, which increases the mean steps of the session and ultimately leads to better conversions."
   ]
  },
  {
   "cell_type": "code",
   "execution_count": 1,
   "id": "7af148f1",
   "metadata": {},
   "outputs": [
    {
     "name": "stderr",
     "output_type": "stream",
     "text": [
      "/Users/ameen/opt/anaconda3/lib/python3.9/site-packages/scipy/__init__.py:146: UserWarning: A NumPy version >=1.16.5 and <1.23.0 is required for this version of SciPy (detected version 1.26.1\n",
      "  warnings.warn(f\"A NumPy version >={np_minversion} and <{np_maxversion}\"\n"
     ]
    }
   ],
   "source": [
    "import pandas as pd\n",
    "import numpy as np\n",
    "import seaborn as sns\n",
    "import matplotlib.pyplot as plt"
   ]
  },
  {
   "cell_type": "code",
   "execution_count": 2,
   "id": "fe5e43df",
   "metadata": {},
   "outputs": [],
   "source": [
    "df_task2 = pd.read_excel('/Users/ameen/Downloads/202303_Task2_Actions.xlsx')"
   ]
  },
  {
   "cell_type": "code",
   "execution_count": 5,
   "id": "6f9f37f3",
   "metadata": {},
   "outputs": [
    {
     "data": {
      "text/html": [
       "<div>\n",
       "<style scoped>\n",
       "    .dataframe tbody tr th:only-of-type {\n",
       "        vertical-align: middle;\n",
       "    }\n",
       "\n",
       "    .dataframe tbody tr th {\n",
       "        vertical-align: top;\n",
       "    }\n",
       "\n",
       "    .dataframe thead th {\n",
       "        text-align: right;\n",
       "    }\n",
       "</style>\n",
       "<table border=\"1\" class=\"dataframe\">\n",
       "  <thead>\n",
       "    <tr style=\"text-align: right;\">\n",
       "      <th></th>\n",
       "      <th>session_id,tracking_id,date_id,action_id,action_reference,step</th>\n",
       "    </tr>\n",
       "  </thead>\n",
       "  <tbody>\n",
       "    <tr>\n",
       "      <th>0</th>\n",
       "      <td>2022051219047047198,W3ZTG14L5L,202205121905103...</td>\n",
       "    </tr>\n",
       "    <tr>\n",
       "      <th>1</th>\n",
       "      <td>2022053117093000001,001J2RM6SK,202205311709300...</td>\n",
       "    </tr>\n",
       "    <tr>\n",
       "      <th>2</th>\n",
       "      <td>2022051219047047198,W3ZTG14L5L,202205121905103...</td>\n",
       "    </tr>\n",
       "    <tr>\n",
       "      <th>3</th>\n",
       "      <td>2022053117093000001,001J2RM6SK,202205311709300...</td>\n",
       "    </tr>\n",
       "    <tr>\n",
       "      <th>4</th>\n",
       "      <td>2022051219047047198,W3ZTG14L5L,202205121905105...</td>\n",
       "    </tr>\n",
       "  </tbody>\n",
       "</table>\n",
       "</div>"
      ],
      "text/plain": [
       "  session_id,tracking_id,date_id,action_id,action_reference,step\n",
       "0  2022051219047047198,W3ZTG14L5L,202205121905103...            \n",
       "1  2022053117093000001,001J2RM6SK,202205311709300...            \n",
       "2  2022051219047047198,W3ZTG14L5L,202205121905103...            \n",
       "3  2022053117093000001,001J2RM6SK,202205311709300...            \n",
       "4  2022051219047047198,W3ZTG14L5L,202205121905105...            "
      ]
     },
     "execution_count": 5,
     "metadata": {},
     "output_type": "execute_result"
    }
   ],
   "source": [
    "df_task2.head()"
   ]
  },
  {
   "cell_type": "code",
   "execution_count": 7,
   "id": "dfcfab5b",
   "metadata": {},
   "outputs": [],
   "source": [
    "columns = df_task2.columns[0]"
   ]
  },
  {
   "cell_type": "markdown",
   "id": "7aa28bf2",
   "metadata": {},
   "source": [
    "### Data Cleaning"
   ]
  },
  {
   "cell_type": "code",
   "execution_count": 8,
   "id": "c53edcd9",
   "metadata": {},
   "outputs": [],
   "source": [
    "split_data = df_task2[columns].str.split(',', expand=True)"
   ]
  },
  {
   "cell_type": "code",
   "execution_count": 9,
   "id": "780652d8",
   "metadata": {
    "scrolled": true
   },
   "outputs": [
    {
     "data": {
      "text/html": [
       "<div>\n",
       "<style scoped>\n",
       "    .dataframe tbody tr th:only-of-type {\n",
       "        vertical-align: middle;\n",
       "    }\n",
       "\n",
       "    .dataframe tbody tr th {\n",
       "        vertical-align: top;\n",
       "    }\n",
       "\n",
       "    .dataframe thead th {\n",
       "        text-align: right;\n",
       "    }\n",
       "</style>\n",
       "<table border=\"1\" class=\"dataframe\">\n",
       "  <thead>\n",
       "    <tr style=\"text-align: right;\">\n",
       "      <th></th>\n",
       "      <th>0</th>\n",
       "      <th>1</th>\n",
       "      <th>2</th>\n",
       "      <th>3</th>\n",
       "      <th>4</th>\n",
       "      <th>5</th>\n",
       "    </tr>\n",
       "  </thead>\n",
       "  <tbody>\n",
       "    <tr>\n",
       "      <th>0</th>\n",
       "      <td>2022051219047047198</td>\n",
       "      <td>W3ZTG14L5L</td>\n",
       "      <td>2022051219051031064</td>\n",
       "      <td>2113</td>\n",
       "      <td>38715</td>\n",
       "      <td>27</td>\n",
       "    </tr>\n",
       "    <tr>\n",
       "      <th>1</th>\n",
       "      <td>2022053117093000001</td>\n",
       "      <td>001J2RM6SK</td>\n",
       "      <td>2022053117093000001</td>\n",
       "      <td>2100</td>\n",
       "      <td>0</td>\n",
       "      <td>1</td>\n",
       "    </tr>\n",
       "    <tr>\n",
       "      <th>2</th>\n",
       "      <td>2022051219047047198</td>\n",
       "      <td>W3ZTG14L5L</td>\n",
       "      <td>2022051219051031871</td>\n",
       "      <td>2160</td>\n",
       "      <td>62</td>\n",
       "      <td>28</td>\n",
       "    </tr>\n",
       "    <tr>\n",
       "      <th>3</th>\n",
       "      <td>2022053117093000001</td>\n",
       "      <td>001J2RM6SK</td>\n",
       "      <td>2022053117093002301</td>\n",
       "      <td>2100</td>\n",
       "      <td>0</td>\n",
       "      <td>3</td>\n",
       "    </tr>\n",
       "    <tr>\n",
       "      <th>4</th>\n",
       "      <td>2022051219047047198</td>\n",
       "      <td>W3ZTG14L5L</td>\n",
       "      <td>2022051219051051853</td>\n",
       "      <td>2113</td>\n",
       "      <td>38715</td>\n",
       "      <td>29</td>\n",
       "    </tr>\n",
       "    <tr>\n",
       "      <th>...</th>\n",
       "      <td>...</td>\n",
       "      <td>...</td>\n",
       "      <td>...</td>\n",
       "      <td>...</td>\n",
       "      <td>...</td>\n",
       "      <td>...</td>\n",
       "    </tr>\n",
       "    <tr>\n",
       "      <th>1048570</th>\n",
       "      <td>2022062508366011311</td>\n",
       "      <td>S1CUNC4JX8</td>\n",
       "      <td>2022062508367002108</td>\n",
       "      <td>2350</td>\n",
       "      <td>0</td>\n",
       "      <td>11</td>\n",
       "    </tr>\n",
       "    <tr>\n",
       "      <th>1048571</th>\n",
       "      <td>2022062508366011311</td>\n",
       "      <td>S1CUNC4JX8</td>\n",
       "      <td>2022062508367002113</td>\n",
       "      <td>2351</td>\n",
       "      <td>6</td>\n",
       "      <td>12</td>\n",
       "    </tr>\n",
       "    <tr>\n",
       "      <th>1048572</th>\n",
       "      <td>2022062508366011311</td>\n",
       "      <td>S1CUNC4JX8</td>\n",
       "      <td>2022062508367002112</td>\n",
       "      <td>2351</td>\n",
       "      <td>0</td>\n",
       "      <td>13</td>\n",
       "    </tr>\n",
       "    <tr>\n",
       "      <th>1048573</th>\n",
       "      <td>2022062508366011311</td>\n",
       "      <td>S1CUNC4JX8</td>\n",
       "      <td>2022062508367002680</td>\n",
       "      <td>2113</td>\n",
       "      <td>51357</td>\n",
       "      <td>15</td>\n",
       "    </tr>\n",
       "    <tr>\n",
       "      <th>1048574</th>\n",
       "      <td>2022062508366011311</td>\n",
       "      <td>S1CUNC4JX8</td>\n",
       "      <td>2022062508367002799</td>\n",
       "      <td>2160</td>\n",
       "      <td>80</td>\n",
       "      <td>16</td>\n",
       "    </tr>\n",
       "  </tbody>\n",
       "</table>\n",
       "<p>1048575 rows × 6 columns</p>\n",
       "</div>"
      ],
      "text/plain": [
       "                           0           1                    2     3      4   5\n",
       "0        2022051219047047198  W3ZTG14L5L  2022051219051031064  2113  38715  27\n",
       "1        2022053117093000001  001J2RM6SK  2022053117093000001  2100      0   1\n",
       "2        2022051219047047198  W3ZTG14L5L  2022051219051031871  2160     62  28\n",
       "3        2022053117093000001  001J2RM6SK  2022053117093002301  2100      0   3\n",
       "4        2022051219047047198  W3ZTG14L5L  2022051219051051853  2113  38715  29\n",
       "...                      ...         ...                  ...   ...    ...  ..\n",
       "1048570  2022062508366011311  S1CUNC4JX8  2022062508367002108  2350      0  11\n",
       "1048571  2022062508366011311  S1CUNC4JX8  2022062508367002113  2351      6  12\n",
       "1048572  2022062508366011311  S1CUNC4JX8  2022062508367002112  2351      0  13\n",
       "1048573  2022062508366011311  S1CUNC4JX8  2022062508367002680  2113  51357  15\n",
       "1048574  2022062508366011311  S1CUNC4JX8  2022062508367002799  2160     80  16\n",
       "\n",
       "[1048575 rows x 6 columns]"
      ]
     },
     "execution_count": 9,
     "metadata": {},
     "output_type": "execute_result"
    }
   ],
   "source": [
    "split_data"
   ]
  },
  {
   "cell_type": "code",
   "execution_count": 10,
   "id": "2b259af6",
   "metadata": {},
   "outputs": [
    {
     "data": {
      "text/plain": [
       "'session_id,tracking_id,date_id,action_id,action_reference,step'"
      ]
     },
     "execution_count": 10,
     "metadata": {},
     "output_type": "execute_result"
    }
   ],
   "source": [
    "columns"
   ]
  },
  {
   "cell_type": "code",
   "execution_count": 11,
   "id": "f0d4db31",
   "metadata": {},
   "outputs": [],
   "source": [
    "split_data.columns = ['session_id', 'tracking_id', 'date_id', 'action_id', 'action_reference', 'step']"
   ]
  },
  {
   "cell_type": "code",
   "execution_count": 153,
   "id": "8086404e",
   "metadata": {},
   "outputs": [
    {
     "data": {
      "text/html": [
       "<div>\n",
       "<style scoped>\n",
       "    .dataframe tbody tr th:only-of-type {\n",
       "        vertical-align: middle;\n",
       "    }\n",
       "\n",
       "    .dataframe tbody tr th {\n",
       "        vertical-align: top;\n",
       "    }\n",
       "\n",
       "    .dataframe thead th {\n",
       "        text-align: right;\n",
       "    }\n",
       "</style>\n",
       "<table border=\"1\" class=\"dataframe\">\n",
       "  <thead>\n",
       "    <tr style=\"text-align: right;\">\n",
       "      <th></th>\n",
       "      <th>session_id</th>\n",
       "      <th>tracking_id</th>\n",
       "      <th>date_id</th>\n",
       "      <th>action_id</th>\n",
       "      <th>action_reference</th>\n",
       "      <th>step</th>\n",
       "    </tr>\n",
       "  </thead>\n",
       "  <tbody>\n",
       "    <tr>\n",
       "      <th>0</th>\n",
       "      <td>2022051219047047198</td>\n",
       "      <td>W3ZTG14L5L</td>\n",
       "      <td>2022051219051031064</td>\n",
       "      <td>2113</td>\n",
       "      <td>38715</td>\n",
       "      <td>27</td>\n",
       "    </tr>\n",
       "    <tr>\n",
       "      <th>1</th>\n",
       "      <td>2022053117093000001</td>\n",
       "      <td>001J2RM6SK</td>\n",
       "      <td>2022053117093000001</td>\n",
       "      <td>2100</td>\n",
       "      <td>0</td>\n",
       "      <td>1</td>\n",
       "    </tr>\n",
       "    <tr>\n",
       "      <th>2</th>\n",
       "      <td>2022051219047047198</td>\n",
       "      <td>W3ZTG14L5L</td>\n",
       "      <td>2022051219051031871</td>\n",
       "      <td>2160</td>\n",
       "      <td>62</td>\n",
       "      <td>28</td>\n",
       "    </tr>\n",
       "    <tr>\n",
       "      <th>3</th>\n",
       "      <td>2022053117093000001</td>\n",
       "      <td>001J2RM6SK</td>\n",
       "      <td>2022053117093002301</td>\n",
       "      <td>2100</td>\n",
       "      <td>0</td>\n",
       "      <td>3</td>\n",
       "    </tr>\n",
       "    <tr>\n",
       "      <th>4</th>\n",
       "      <td>2022051219047047198</td>\n",
       "      <td>W3ZTG14L5L</td>\n",
       "      <td>2022051219051051853</td>\n",
       "      <td>2113</td>\n",
       "      <td>38715</td>\n",
       "      <td>29</td>\n",
       "    </tr>\n",
       "    <tr>\n",
       "      <th>...</th>\n",
       "      <td>...</td>\n",
       "      <td>...</td>\n",
       "      <td>...</td>\n",
       "      <td>...</td>\n",
       "      <td>...</td>\n",
       "      <td>...</td>\n",
       "    </tr>\n",
       "    <tr>\n",
       "      <th>1048570</th>\n",
       "      <td>2022062508366011311</td>\n",
       "      <td>S1CUNC4JX8</td>\n",
       "      <td>2022062508367002108</td>\n",
       "      <td>2350</td>\n",
       "      <td>0</td>\n",
       "      <td>11</td>\n",
       "    </tr>\n",
       "    <tr>\n",
       "      <th>1048571</th>\n",
       "      <td>2022062508366011311</td>\n",
       "      <td>S1CUNC4JX8</td>\n",
       "      <td>2022062508367002113</td>\n",
       "      <td>2351</td>\n",
       "      <td>6</td>\n",
       "      <td>12</td>\n",
       "    </tr>\n",
       "    <tr>\n",
       "      <th>1048572</th>\n",
       "      <td>2022062508366011311</td>\n",
       "      <td>S1CUNC4JX8</td>\n",
       "      <td>2022062508367002112</td>\n",
       "      <td>2351</td>\n",
       "      <td>0</td>\n",
       "      <td>13</td>\n",
       "    </tr>\n",
       "    <tr>\n",
       "      <th>1048573</th>\n",
       "      <td>2022062508366011311</td>\n",
       "      <td>S1CUNC4JX8</td>\n",
       "      <td>2022062508367002680</td>\n",
       "      <td>2113</td>\n",
       "      <td>51357</td>\n",
       "      <td>15</td>\n",
       "    </tr>\n",
       "    <tr>\n",
       "      <th>1048574</th>\n",
       "      <td>2022062508366011311</td>\n",
       "      <td>S1CUNC4JX8</td>\n",
       "      <td>2022062508367002799</td>\n",
       "      <td>2160</td>\n",
       "      <td>80</td>\n",
       "      <td>16</td>\n",
       "    </tr>\n",
       "  </tbody>\n",
       "</table>\n",
       "<p>1048575 rows × 6 columns</p>\n",
       "</div>"
      ],
      "text/plain": [
       "                  session_id tracking_id              date_id action_id  \\\n",
       "0        2022051219047047198  W3ZTG14L5L  2022051219051031064      2113   \n",
       "1        2022053117093000001  001J2RM6SK  2022053117093000001      2100   \n",
       "2        2022051219047047198  W3ZTG14L5L  2022051219051031871      2160   \n",
       "3        2022053117093000001  001J2RM6SK  2022053117093002301      2100   \n",
       "4        2022051219047047198  W3ZTG14L5L  2022051219051051853      2113   \n",
       "...                      ...         ...                  ...       ...   \n",
       "1048570  2022062508366011311  S1CUNC4JX8  2022062508367002108      2350   \n",
       "1048571  2022062508366011311  S1CUNC4JX8  2022062508367002113      2351   \n",
       "1048572  2022062508366011311  S1CUNC4JX8  2022062508367002112      2351   \n",
       "1048573  2022062508366011311  S1CUNC4JX8  2022062508367002680      2113   \n",
       "1048574  2022062508366011311  S1CUNC4JX8  2022062508367002799      2160   \n",
       "\n",
       "        action_reference step  \n",
       "0                  38715   27  \n",
       "1                      0    1  \n",
       "2                     62   28  \n",
       "3                      0    3  \n",
       "4                  38715   29  \n",
       "...                  ...  ...  \n",
       "1048570                0   11  \n",
       "1048571                6   12  \n",
       "1048572                0   13  \n",
       "1048573            51357   15  \n",
       "1048574               80   16  \n",
       "\n",
       "[1048575 rows x 6 columns]"
      ]
     },
     "execution_count": 153,
     "metadata": {},
     "output_type": "execute_result"
    }
   ],
   "source": [
    "split_data"
   ]
  },
  {
   "cell_type": "code",
   "execution_count": 19,
   "id": "e11b5ed1",
   "metadata": {},
   "outputs": [],
   "source": [
    "df_task2 = split_data.copy()"
   ]
  },
  {
   "cell_type": "code",
   "execution_count": 27,
   "id": "bb14eaa6",
   "metadata": {},
   "outputs": [],
   "source": [
    "df_task2['step'] = df_task2['step'].astype(int)"
   ]
  },
  {
   "cell_type": "markdown",
   "id": "a49013d6",
   "metadata": {},
   "source": [
    "## Task2 Q1)\n",
    "Explore how sessions start at trivago and think about how this might correspond to\n",
    "our website."
   ]
  },
  {
   "cell_type": "code",
   "execution_count": 31,
   "id": "76f12daa",
   "metadata": {},
   "outputs": [],
   "source": [
    "df_action_start = df_task2[df_task2['step']==1].groupby(['action_id'])['date_id'].nunique().reset_index()"
   ]
  },
  {
   "cell_type": "code",
   "execution_count": 33,
   "id": "82a740ad",
   "metadata": {},
   "outputs": [],
   "source": [
    "df_action_start.rename({'date_id':'events'},axis=1,inplace=True)"
   ]
  },
  {
   "cell_type": "code",
   "execution_count": 36,
   "id": "1c621fde",
   "metadata": {},
   "outputs": [],
   "source": [
    "df_action_start.sort_values('events',ascending = False,inplace= True)"
   ]
  },
  {
   "cell_type": "code",
   "execution_count": 38,
   "id": "dc3aa97a",
   "metadata": {},
   "outputs": [],
   "source": [
    "df_action_start.reset_index(drop = True,inplace=True)"
   ]
  },
  {
   "cell_type": "code",
   "execution_count": 40,
   "id": "9bdf9f3d",
   "metadata": {},
   "outputs": [
    {
     "data": {
      "text/html": [
       "<div>\n",
       "<style scoped>\n",
       "    .dataframe tbody tr th:only-of-type {\n",
       "        vertical-align: middle;\n",
       "    }\n",
       "\n",
       "    .dataframe tbody tr th {\n",
       "        vertical-align: top;\n",
       "    }\n",
       "\n",
       "    .dataframe thead th {\n",
       "        text-align: right;\n",
       "    }\n",
       "</style>\n",
       "<table border=\"1\" class=\"dataframe\">\n",
       "  <thead>\n",
       "    <tr style=\"text-align: right;\">\n",
       "      <th></th>\n",
       "      <th>action_id</th>\n",
       "      <th>events</th>\n",
       "    </tr>\n",
       "  </thead>\n",
       "  <tbody>\n",
       "    <tr>\n",
       "      <th>0</th>\n",
       "      <td>2100</td>\n",
       "      <td>25238</td>\n",
       "    </tr>\n",
       "    <tr>\n",
       "      <th>1</th>\n",
       "      <td>2113</td>\n",
       "      <td>2212</td>\n",
       "    </tr>\n",
       "    <tr>\n",
       "      <th>2</th>\n",
       "      <td>2116</td>\n",
       "      <td>2176</td>\n",
       "    </tr>\n",
       "    <tr>\n",
       "      <th>3</th>\n",
       "      <td>2111</td>\n",
       "      <td>804</td>\n",
       "    </tr>\n",
       "    <tr>\n",
       "      <th>4</th>\n",
       "      <td>2115</td>\n",
       "      <td>356</td>\n",
       "    </tr>\n",
       "    <tr>\n",
       "      <th>5</th>\n",
       "      <td>2142</td>\n",
       "      <td>280</td>\n",
       "    </tr>\n",
       "    <tr>\n",
       "      <th>6</th>\n",
       "      <td>2114</td>\n",
       "      <td>259</td>\n",
       "    </tr>\n",
       "    <tr>\n",
       "      <th>7</th>\n",
       "      <td>2227</td>\n",
       "      <td>188</td>\n",
       "    </tr>\n",
       "    <tr>\n",
       "      <th>8</th>\n",
       "      <td>2160</td>\n",
       "      <td>132</td>\n",
       "    </tr>\n",
       "    <tr>\n",
       "      <th>9</th>\n",
       "      <td>2365</td>\n",
       "      <td>92</td>\n",
       "    </tr>\n",
       "  </tbody>\n",
       "</table>\n",
       "</div>"
      ],
      "text/plain": [
       "  action_id  events\n",
       "0      2100   25238\n",
       "1      2113    2212\n",
       "2      2116    2176\n",
       "3      2111     804\n",
       "4      2115     356\n",
       "5      2142     280\n",
       "6      2114     259\n",
       "7      2227     188\n",
       "8      2160     132\n",
       "9      2365      92"
      ]
     },
     "execution_count": 40,
     "metadata": {},
     "output_type": "execute_result"
    }
   ],
   "source": [
    "df_action_start.head(10)"
   ]
  },
  {
   "cell_type": "code",
   "execution_count": 45,
   "id": "b055e8e7",
   "metadata": {},
   "outputs": [
    {
     "data": {
      "text/plain": [
       "0.7829863804175845"
      ]
     },
     "execution_count": 45,
     "metadata": {},
     "output_type": "execute_result"
    }
   ],
   "source": [
    "### Calculating the share of session's first action through action id 2100\n",
    "df_action_start[df_action_start['action_id']=='2100']['events'].sum()/df_action_start.events.sum()"
   ]
  },
  {
   "cell_type": "markdown",
   "id": "17591e31",
   "metadata": {},
   "source": [
    "#### Approximately 78% of the sessions commence with an action ID linked to 2100, and upon closer investigation on the Trivago website, it seems to correspond to the \"List Page Viewed Event. Assuming that most users start their journey on the website from the listing page"
   ]
  },
  {
   "cell_type": "markdown",
   "id": "fcbc395a",
   "metadata": {},
   "source": [
    "## Task2 Q2)\n",
    "Look at the last actions of sessions and find the drop rate for different actions"
   ]
  },
  {
   "cell_type": "code",
   "execution_count": 58,
   "id": "ad257068",
   "metadata": {},
   "outputs": [],
   "source": [
    "## Get the last action of each session\n",
    "df_last_action = df_task2.loc[df_task2.groupby('session_id')['step'].idxmax()]"
   ]
  },
  {
   "cell_type": "code",
   "execution_count": 65,
   "id": "fb7e541b",
   "metadata": {},
   "outputs": [],
   "source": [
    "df_last_action_agg = df_last_action.groupby('action_id')['date_id'].nunique().reset_index()"
   ]
  },
  {
   "cell_type": "code",
   "execution_count": 69,
   "id": "3217c4f9",
   "metadata": {},
   "outputs": [],
   "source": [
    "df_last_action_agg.rename({'date_id':'events'},axis=1,inplace=True)"
   ]
  },
  {
   "cell_type": "code",
   "execution_count": 72,
   "id": "701427db",
   "metadata": {},
   "outputs": [
    {
     "data": {
      "text/html": [
       "<div>\n",
       "<style scoped>\n",
       "    .dataframe tbody tr th:only-of-type {\n",
       "        vertical-align: middle;\n",
       "    }\n",
       "\n",
       "    .dataframe tbody tr th {\n",
       "        vertical-align: top;\n",
       "    }\n",
       "\n",
       "    .dataframe thead th {\n",
       "        text-align: right;\n",
       "    }\n",
       "</style>\n",
       "<table border=\"1\" class=\"dataframe\">\n",
       "  <thead>\n",
       "    <tr style=\"text-align: right;\">\n",
       "      <th></th>\n",
       "      <th>action_id</th>\n",
       "      <th>events</th>\n",
       "    </tr>\n",
       "  </thead>\n",
       "  <tbody>\n",
       "    <tr>\n",
       "      <th>0</th>\n",
       "      <td>0</td>\n",
       "      <td>5</td>\n",
       "    </tr>\n",
       "    <tr>\n",
       "      <th>1</th>\n",
       "      <td>2100</td>\n",
       "      <td>3388</td>\n",
       "    </tr>\n",
       "    <tr>\n",
       "      <th>2</th>\n",
       "      <td>2108</td>\n",
       "      <td>6</td>\n",
       "    </tr>\n",
       "    <tr>\n",
       "      <th>3</th>\n",
       "      <td>2111</td>\n",
       "      <td>857</td>\n",
       "    </tr>\n",
       "    <tr>\n",
       "      <th>4</th>\n",
       "      <td>2113</td>\n",
       "      <td>3595</td>\n",
       "    </tr>\n",
       "    <tr>\n",
       "      <th>...</th>\n",
       "      <td>...</td>\n",
       "      <td>...</td>\n",
       "    </tr>\n",
       "    <tr>\n",
       "      <th>88</th>\n",
       "      <td>8002</td>\n",
       "      <td>29</td>\n",
       "    </tr>\n",
       "    <tr>\n",
       "      <th>89</th>\n",
       "      <td>8006</td>\n",
       "      <td>2</td>\n",
       "    </tr>\n",
       "    <tr>\n",
       "      <th>90</th>\n",
       "      <td>8020</td>\n",
       "      <td>16</td>\n",
       "    </tr>\n",
       "    <tr>\n",
       "      <th>91</th>\n",
       "      <td>8091</td>\n",
       "      <td>1</td>\n",
       "    </tr>\n",
       "    <tr>\n",
       "      <th>92</th>\n",
       "      <td>8101</td>\n",
       "      <td>480</td>\n",
       "    </tr>\n",
       "  </tbody>\n",
       "</table>\n",
       "<p>93 rows × 2 columns</p>\n",
       "</div>"
      ],
      "text/plain": [
       "   action_id  events\n",
       "0          0       5\n",
       "1       2100    3388\n",
       "2       2108       6\n",
       "3       2111     857\n",
       "4       2113    3595\n",
       "..       ...     ...\n",
       "88      8002      29\n",
       "89      8006       2\n",
       "90      8020      16\n",
       "91      8091       1\n",
       "92      8101     480\n",
       "\n",
       "[93 rows x 2 columns]"
      ]
     },
     "execution_count": 72,
     "metadata": {},
     "output_type": "execute_result"
    }
   ],
   "source": [
    "df_last_action_agg"
   ]
  },
  {
   "cell_type": "code",
   "execution_count": 74,
   "id": "f31eb103",
   "metadata": {},
   "outputs": [],
   "source": [
    "df_last_action_agg.sort_values('events',ascending=False,inplace=True)"
   ]
  },
  {
   "cell_type": "code",
   "execution_count": 86,
   "id": "dda225e9",
   "metadata": {},
   "outputs": [
    {
     "data": {
      "text/plain": [
       "25436"
      ]
     },
     "execution_count": 86,
     "metadata": {},
     "output_type": "execute_result"
    }
   ],
   "source": [
    "df_last_action_agg.head(10).events.sum()"
   ]
  },
  {
   "cell_type": "code",
   "execution_count": 104,
   "id": "ae9e3a1c",
   "metadata": {},
   "outputs": [
    {
     "data": {
      "text/html": [
       "<div>\n",
       "<style scoped>\n",
       "    .dataframe tbody tr th:only-of-type {\n",
       "        vertical-align: middle;\n",
       "    }\n",
       "\n",
       "    .dataframe tbody tr th {\n",
       "        vertical-align: top;\n",
       "    }\n",
       "\n",
       "    .dataframe thead th {\n",
       "        text-align: right;\n",
       "    }\n",
       "</style>\n",
       "<table border=\"1\" class=\"dataframe\">\n",
       "  <thead>\n",
       "    <tr style=\"text-align: right;\">\n",
       "      <th></th>\n",
       "      <th>action_id</th>\n",
       "      <th>events</th>\n",
       "    </tr>\n",
       "  </thead>\n",
       "  <tbody>\n",
       "    <tr>\n",
       "      <th>87</th>\n",
       "      <td>8001</td>\n",
       "      <td>9107</td>\n",
       "    </tr>\n",
       "    <tr>\n",
       "      <th>4</th>\n",
       "      <td>2113</td>\n",
       "      <td>3595</td>\n",
       "    </tr>\n",
       "    <tr>\n",
       "      <th>1</th>\n",
       "      <td>2100</td>\n",
       "      <td>3388</td>\n",
       "    </tr>\n",
       "    <tr>\n",
       "      <th>7</th>\n",
       "      <td>2116</td>\n",
       "      <td>2145</td>\n",
       "    </tr>\n",
       "    <tr>\n",
       "      <th>23</th>\n",
       "      <td>2142</td>\n",
       "      <td>2055</td>\n",
       "    </tr>\n",
       "    <tr>\n",
       "      <th>30</th>\n",
       "      <td>2160</td>\n",
       "      <td>1433</td>\n",
       "    </tr>\n",
       "    <tr>\n",
       "      <th>28</th>\n",
       "      <td>2155</td>\n",
       "      <td>1253</td>\n",
       "    </tr>\n",
       "    <tr>\n",
       "      <th>3</th>\n",
       "      <td>2111</td>\n",
       "      <td>857</td>\n",
       "    </tr>\n",
       "    <tr>\n",
       "      <th>54</th>\n",
       "      <td>2350</td>\n",
       "      <td>848</td>\n",
       "    </tr>\n",
       "    <tr>\n",
       "      <th>63</th>\n",
       "      <td>2375</td>\n",
       "      <td>755</td>\n",
       "    </tr>\n",
       "  </tbody>\n",
       "</table>\n",
       "</div>"
      ],
      "text/plain": [
       "   action_id  events\n",
       "87      8001    9107\n",
       "4       2113    3595\n",
       "1       2100    3388\n",
       "7       2116    2145\n",
       "23      2142    2055\n",
       "30      2160    1433\n",
       "28      2155    1253\n",
       "3       2111     857\n",
       "54      2350     848\n",
       "63      2375     755"
      ]
     },
     "execution_count": 104,
     "metadata": {},
     "output_type": "execute_result"
    }
   ],
   "source": [
    "### Printing the top 10 last session actions b\n",
    "df_last_action_agg.head(10)"
   ]
  },
  {
   "cell_type": "code",
   "execution_count": 105,
   "id": "483e6f13",
   "metadata": {
    "scrolled": false
   },
   "outputs": [],
   "source": [
    "top_10_actions_list = list(df_last_action_agg.head(10)['action_id'].unique())"
   ]
  },
  {
   "cell_type": "code",
   "execution_count": 108,
   "id": "590d21d7",
   "metadata": {},
   "outputs": [
    {
     "data": {
      "text/plain": [
       "['8001',\n",
       " '2113',\n",
       " '2100',\n",
       " '2116',\n",
       " '2142',\n",
       " '2160',\n",
       " '2155',\n",
       " '2111',\n",
       " '2350',\n",
       " '2375']"
      ]
     },
     "execution_count": 108,
     "metadata": {},
     "output_type": "execute_result"
    }
   ],
   "source": [
    "top_10_actions_list"
   ]
  },
  {
   "cell_type": "code",
   "execution_count": 117,
   "id": "bef8fbe5",
   "metadata": {},
   "outputs": [],
   "source": [
    "## categorizing action ids not in the top 10 action ids list into a buckets\n",
    "df_last_action_agg['action_id_tag'] = np.where(df_last_action_agg['action_id'].isin(top_10_actions_list),df_last_action_agg['action_id'],'Others')"
   ]
  },
  {
   "cell_type": "code",
   "execution_count": 118,
   "id": "81fea0b4",
   "metadata": {},
   "outputs": [],
   "source": [
    "df_last_action_agg1 = df_last_action_agg.groupby('action_id_tag')['events'].sum().reset_index()"
   ]
  },
  {
   "cell_type": "code",
   "execution_count": 119,
   "id": "000a0298",
   "metadata": {},
   "outputs": [
    {
     "data": {
      "image/png": "[encoded data removed]",
      "text/plain": [
       "<Figure size 576x576 with 1 Axes>"
      ]
     },
     "metadata": {},
     "output_type": "display_data"
    }
   ],
   "source": [
    "sns.set(style=\"whitegrid\")\n",
    "\n",
    "# Create a pie chart\n",
    "fig, ax = plt.subplots(figsize=(8, 8))\n",
    "plt.pie(df_last_action_agg1['events'], labels=df_last_action_agg1['action_id_tag'], autopct='%1.1f%%', startangle=140)\n",
    "plt.title('Distribution of Events by Action ID', y=1.08)  # Adjust the 'y' value to move the title up\n",
    "\n",
    "# Display the pie chart\n",
    "plt.axis('equal')  # Equal aspect ratio ensures that the pie is drawn as a circle.\n",
    "plt.show()"
   ]
  },
  {
   "cell_type": "markdown",
   "id": "a23c1d37",
   "metadata": {},
   "source": [
    "#### **25%** of the sessions concluded with action ID **8001**, followed by **9.5%** of sessions with action ID **2100**."
   ]
  },
  {
   "cell_type": "markdown",
   "id": "0c789cb5",
   "metadata": {},
   "source": [
    "## Task2 Q3)\n",
    "Now think about conversions on our site. What actions might we consider as\n",
    "conversions? Can you determine from your analysis of the data which numbers refer\n",
    "to these actions? Look into sessions with conversions that you have determined and\n",
    "see if there are any actions that correspond to higher numbers of conversions."
   ]
  },
  {
   "cell_type": "code",
   "execution_count": 140,
   "id": "e6a76fa2",
   "metadata": {
    "scrolled": true
   },
   "outputs": [],
   "source": [
    "## Action Id wise average steps and total events\n",
    "df_action_id_agg = df_task2.groupby('action_id').agg({'step':'mean','date_id':'nunique'}).reset_index().sort_values('date_id',ascending = False)"
   ]
  },
  {
   "cell_type": "code",
   "execution_count": 141,
   "id": "1f2f070a",
   "metadata": {},
   "outputs": [],
   "source": [
    "df_action_id_agg.rename({'step':'mean_steps','date_id':'events'},inplace = True,axis=1)"
   ]
  },
  {
   "cell_type": "code",
   "execution_count": 143,
   "id": "d5295eda",
   "metadata": {},
   "outputs": [],
   "source": [
    "df_action_id_agg.reset_index(drop=True,inplace=True)"
   ]
  },
  {
   "cell_type": "code",
   "execution_count": 149,
   "id": "71b5d4f0",
   "metadata": {},
   "outputs": [],
   "source": [
    "df_top_10_actions = df_action_id_agg.head(10)"
   ]
  },
  {
   "cell_type": "code",
   "execution_count": 147,
   "id": "dba8b74f",
   "metadata": {},
   "outputs": [
    {
     "name": "stdout",
     "output_type": "stream",
     "text": [
      "Total Sessions are 35722\n"
     ]
    }
   ],
   "source": [
    "total_sessions = df_task2.session_id.nunique()\n",
    "print('Total Sessions are {}'.format(total_sessions))"
   ]
  },
  {
   "cell_type": "markdown",
   "id": "a4d1f232",
   "metadata": {},
   "source": [
    "#### Calculating the events/sessions ratio for top 10 most occuring action ids to determine the action id leading to conversion ie leading to a clickout"
   ]
  },
  {
   "cell_type": "code",
   "execution_count": 151,
   "id": "adb6be25",
   "metadata": {},
   "outputs": [
    {
     "name": "stderr",
     "output_type": "stream",
     "text": [
      "/var/folders/zb/63y1717919g6xzzntmcglcvw0000gn/T/ipykernel_18883/2857646106.py:1: SettingWithCopyWarning: \n",
      "A value is trying to be set on a copy of a slice from a DataFrame.\n",
      "Try using .loc[row_indexer,col_indexer] = value instead\n",
      "\n",
      "See the caveats in the documentation: https://pandas.pydata.org/pandas-docs/stable/user_guide/indexing.html#returning-a-view-versus-a-copy\n",
      "  df_top_10_actions['events_per_session'] = df_top_10_actions['events']/total_sessions\n"
     ]
    }
   ],
   "source": [
    "df_top_10_actions['events_per_session'] = df_top_10_actions['events']/total_sessions"
   ]
  },
  {
   "cell_type": "code",
   "execution_count": 152,
   "id": "783aaad5",
   "metadata": {},
   "outputs": [
    {
     "data": {
      "text/html": [
       "<div>\n",
       "<style scoped>\n",
       "    .dataframe tbody tr th:only-of-type {\n",
       "        vertical-align: middle;\n",
       "    }\n",
       "\n",
       "    .dataframe tbody tr th {\n",
       "        vertical-align: top;\n",
       "    }\n",
       "\n",
       "    .dataframe thead th {\n",
       "        text-align: right;\n",
       "    }\n",
       "</style>\n",
       "<table border=\"1\" class=\"dataframe\">\n",
       "  <thead>\n",
       "    <tr style=\"text-align: right;\">\n",
       "      <th></th>\n",
       "      <th>action_id</th>\n",
       "      <th>mean_steps</th>\n",
       "      <th>events</th>\n",
       "      <th>events_per_session</th>\n",
       "    </tr>\n",
       "  </thead>\n",
       "  <tbody>\n",
       "    <tr>\n",
       "      <th>0</th>\n",
       "      <td>2142</td>\n",
       "      <td>90.815437</td>\n",
       "      <td>265151</td>\n",
       "      <td>7.422625</td>\n",
       "    </tr>\n",
       "    <tr>\n",
       "      <th>1</th>\n",
       "      <td>2160</td>\n",
       "      <td>28.256624</td>\n",
       "      <td>114588</td>\n",
       "      <td>3.207771</td>\n",
       "    </tr>\n",
       "    <tr>\n",
       "      <th>2</th>\n",
       "      <td>2113</td>\n",
       "      <td>34.687619</td>\n",
       "      <td>112065</td>\n",
       "      <td>3.137142</td>\n",
       "    </tr>\n",
       "    <tr>\n",
       "      <th>3</th>\n",
       "      <td>2100</td>\n",
       "      <td>9.308870</td>\n",
       "      <td>53741</td>\n",
       "      <td>1.504423</td>\n",
       "    </tr>\n",
       "    <tr>\n",
       "      <th>4</th>\n",
       "      <td>8001</td>\n",
       "      <td>55.013025</td>\n",
       "      <td>42533</td>\n",
       "      <td>1.190667</td>\n",
       "    </tr>\n",
       "    <tr>\n",
       "      <th>5</th>\n",
       "      <td>2116</td>\n",
       "      <td>35.456774</td>\n",
       "      <td>38923</td>\n",
       "      <td>1.089609</td>\n",
       "    </tr>\n",
       "    <tr>\n",
       "      <th>6</th>\n",
       "      <td>2455</td>\n",
       "      <td>54.544777</td>\n",
       "      <td>38368</td>\n",
       "      <td>1.074072</td>\n",
       "    </tr>\n",
       "    <tr>\n",
       "      <th>7</th>\n",
       "      <td>2350</td>\n",
       "      <td>34.473370</td>\n",
       "      <td>34472</td>\n",
       "      <td>0.965008</td>\n",
       "    </tr>\n",
       "    <tr>\n",
       "      <th>8</th>\n",
       "      <td>2358</td>\n",
       "      <td>35.230846</td>\n",
       "      <td>34196</td>\n",
       "      <td>0.957281</td>\n",
       "    </tr>\n",
       "    <tr>\n",
       "      <th>9</th>\n",
       "      <td>2351</td>\n",
       "      <td>42.265835</td>\n",
       "      <td>30297</td>\n",
       "      <td>0.848133</td>\n",
       "    </tr>\n",
       "  </tbody>\n",
       "</table>\n",
       "</div>"
      ],
      "text/plain": [
       "  action_id  mean_steps  events  events_per_session\n",
       "0      2142   90.815437  265151            7.422625\n",
       "1      2160   28.256624  114588            3.207771\n",
       "2      2113   34.687619  112065            3.137142\n",
       "3      2100    9.308870   53741            1.504423\n",
       "4      8001   55.013025   42533            1.190667\n",
       "5      2116   35.456774   38923            1.089609\n",
       "6      2455   54.544777   38368            1.074072\n",
       "7      2350   34.473370   34472            0.965008\n",
       "8      2358   35.230846   34196            0.957281\n",
       "9      2351   42.265835   30297            0.848133"
      ]
     },
     "execution_count": 152,
     "metadata": {},
     "output_type": "execute_result"
    }
   ],
   "source": [
    "df_top_10_actions"
   ]
  },
  {
   "cell_type": "markdown",
   "id": "8e69e410",
   "metadata": {},
   "source": [
    "* Action IDs **2142, 2160, 2113** have very high event counts per session. This suggests that these actions are less likely to lead to conversions.\n",
    "\n",
    "* Action ID **2100** has an event count of **1.5** per session, and users usually perform it early in their session, as we've seen before.\n",
    "* Action ID **8001** occurs approximately **1.2** times during a session, and according to the pie chart, it marks the end of about **25%** of sessions. This indicates that it's often associated with conversions or clickouts. An events-per-session value of 1.2 is a strong indicator that it might be a likely value for **COR**, as we observed in Task 1."
   ]
  },
  {
   "cell_type": "code",
   "execution_count": 208,
   "id": "4c0e09b1",
   "metadata": {},
   "outputs": [],
   "source": [
    "#Sessions with Action Id 8001 are the sessions with Conversions\n",
    "\n",
    "conv_session_ids = df_task2[df_task2['action_id']=='8001']['session_id'].unique()\n",
    "## Creating a dataframe for sessions with conversions\n",
    "df_conv_sessions = df_task2[df_task2.session_id.isin(conv_session_ids)]"
   ]
  },
  {
   "cell_type": "code",
   "execution_count": 209,
   "id": "54bb477c",
   "metadata": {},
   "outputs": [],
   "source": [
    "df_conv_sessions_agg = df_conv_sessions.groupby(['action_id']).agg({'session_id':'nunique','date_id':'nunique','step':'mean'}).reset_index()"
   ]
  },
  {
   "cell_type": "code",
   "execution_count": 210,
   "id": "513d03b6",
   "metadata": {},
   "outputs": [
    {
     "data": {
      "text/plain": [
       "17614"
      ]
     },
     "execution_count": 210,
     "metadata": {},
     "output_type": "execute_result"
    }
   ],
   "source": [
    "## Total sessions with Conversions\n",
    "df_conv_sessions.session_id.nunique()"
   ]
  },
  {
   "cell_type": "code",
   "execution_count": 211,
   "id": "18e347a7",
   "metadata": {},
   "outputs": [],
   "source": [
    "df_conv_sessions_agg.rename({'session_id':'sessions','date_id':'events','step':'mean_steps'},axis=1,inplace=True)"
   ]
  },
  {
   "cell_type": "code",
   "execution_count": 212,
   "id": "a98ac537",
   "metadata": {},
   "outputs": [],
   "source": [
    "df_conv_sessions_agg.sort_values('events',ascending = False,inplace=True)"
   ]
  },
  {
   "cell_type": "code",
   "execution_count": 213,
   "id": "f00c5736",
   "metadata": {},
   "outputs": [
    {
     "data": {
      "text/html": [
       "<div>\n",
       "<style scoped>\n",
       "    .dataframe tbody tr th:only-of-type {\n",
       "        vertical-align: middle;\n",
       "    }\n",
       "\n",
       "    .dataframe tbody tr th {\n",
       "        vertical-align: top;\n",
       "    }\n",
       "\n",
       "    .dataframe thead th {\n",
       "        text-align: right;\n",
       "    }\n",
       "</style>\n",
       "<table border=\"1\" class=\"dataframe\">\n",
       "  <thead>\n",
       "    <tr style=\"text-align: right;\">\n",
       "      <th></th>\n",
       "      <th>action_id</th>\n",
       "      <th>sessions</th>\n",
       "      <th>events</th>\n",
       "      <th>mean_steps</th>\n",
       "      <th>events_per_session</th>\n",
       "    </tr>\n",
       "  </thead>\n",
       "  <tbody>\n",
       "    <tr>\n",
       "      <th>24</th>\n",
       "      <td>2142</td>\n",
       "      <td>7305</td>\n",
       "      <td>192687</td>\n",
       "      <td>94.141712</td>\n",
       "      <td>26.377413</td>\n",
       "    </tr>\n",
       "    <tr>\n",
       "      <th>31</th>\n",
       "      <td>2160</td>\n",
       "      <td>16052</td>\n",
       "      <td>82172</td>\n",
       "      <td>29.558974</td>\n",
       "      <td>5.119113</td>\n",
       "    </tr>\n",
       "    <tr>\n",
       "      <th>4</th>\n",
       "      <td>2113</td>\n",
       "      <td>10680</td>\n",
       "      <td>78812</td>\n",
       "      <td>38.089415</td>\n",
       "      <td>7.379401</td>\n",
       "    </tr>\n",
       "    <tr>\n",
       "      <th>95</th>\n",
       "      <td>8001</td>\n",
       "      <td>17614</td>\n",
       "      <td>42533</td>\n",
       "      <td>55.013025</td>\n",
       "      <td>2.414727</td>\n",
       "    </tr>\n",
       "    <tr>\n",
       "      <th>1</th>\n",
       "      <td>2100</td>\n",
       "      <td>14466</td>\n",
       "      <td>31733</td>\n",
       "      <td>11.762613</td>\n",
       "      <td>2.193626</td>\n",
       "    </tr>\n",
       "    <tr>\n",
       "      <th>80</th>\n",
       "      <td>2455</td>\n",
       "      <td>4618</td>\n",
       "      <td>28227</td>\n",
       "      <td>58.371134</td>\n",
       "      <td>6.112386</td>\n",
       "    </tr>\n",
       "    <tr>\n",
       "      <th>7</th>\n",
       "      <td>2116</td>\n",
       "      <td>4753</td>\n",
       "      <td>26081</td>\n",
       "      <td>41.351252</td>\n",
       "      <td>5.487271</td>\n",
       "    </tr>\n",
       "    <tr>\n",
       "      <th>56</th>\n",
       "      <td>2350</td>\n",
       "      <td>14355</td>\n",
       "      <td>24293</td>\n",
       "      <td>37.942041</td>\n",
       "      <td>1.692302</td>\n",
       "    </tr>\n",
       "    <tr>\n",
       "      <th>61</th>\n",
       "      <td>2358</td>\n",
       "      <td>11712</td>\n",
       "      <td>23359</td>\n",
       "      <td>39.442142</td>\n",
       "      <td>1.994450</td>\n",
       "    </tr>\n",
       "    <tr>\n",
       "      <th>6</th>\n",
       "      <td>2115</td>\n",
       "      <td>3143</td>\n",
       "      <td>20861</td>\n",
       "      <td>45.522890</td>\n",
       "      <td>6.637289</td>\n",
       "    </tr>\n",
       "    <tr>\n",
       "      <th>57</th>\n",
       "      <td>2351</td>\n",
       "      <td>3496</td>\n",
       "      <td>20027</td>\n",
       "      <td>46.970390</td>\n",
       "      <td>5.728547</td>\n",
       "    </tr>\n",
       "    <tr>\n",
       "      <th>65</th>\n",
       "      <td>2371</td>\n",
       "      <td>1049</td>\n",
       "      <td>19606</td>\n",
       "      <td>75.276599</td>\n",
       "      <td>18.690181</td>\n",
       "    </tr>\n",
       "    <tr>\n",
       "      <th>3</th>\n",
       "      <td>2111</td>\n",
       "      <td>2846</td>\n",
       "      <td>18570</td>\n",
       "      <td>42.231395</td>\n",
       "      <td>6.524947</td>\n",
       "    </tr>\n",
       "    <tr>\n",
       "      <th>49</th>\n",
       "      <td>2306</td>\n",
       "      <td>14039</td>\n",
       "      <td>16659</td>\n",
       "      <td>21.759409</td>\n",
       "      <td>1.186623</td>\n",
       "    </tr>\n",
       "    <tr>\n",
       "      <th>8</th>\n",
       "      <td>2119</td>\n",
       "      <td>3970</td>\n",
       "      <td>13379</td>\n",
       "      <td>52.671052</td>\n",
       "      <td>3.370025</td>\n",
       "    </tr>\n",
       "    <tr>\n",
       "      <th>5</th>\n",
       "      <td>2114</td>\n",
       "      <td>2145</td>\n",
       "      <td>11397</td>\n",
       "      <td>49.625252</td>\n",
       "      <td>5.313287</td>\n",
       "    </tr>\n",
       "    <tr>\n",
       "      <th>29</th>\n",
       "      <td>2155</td>\n",
       "      <td>3679</td>\n",
       "      <td>10515</td>\n",
       "      <td>66.175939</td>\n",
       "      <td>2.858114</td>\n",
       "    </tr>\n",
       "    <tr>\n",
       "      <th>67</th>\n",
       "      <td>2375</td>\n",
       "      <td>2976</td>\n",
       "      <td>10209</td>\n",
       "      <td>41.486434</td>\n",
       "      <td>3.430444</td>\n",
       "    </tr>\n",
       "    <tr>\n",
       "      <th>10</th>\n",
       "      <td>2121</td>\n",
       "      <td>2714</td>\n",
       "      <td>7364</td>\n",
       "      <td>56.337724</td>\n",
       "      <td>2.713338</td>\n",
       "    </tr>\n",
       "    <tr>\n",
       "      <th>47</th>\n",
       "      <td>2296</td>\n",
       "      <td>3430</td>\n",
       "      <td>7300</td>\n",
       "      <td>87.488904</td>\n",
       "      <td>2.128280</td>\n",
       "    </tr>\n",
       "  </tbody>\n",
       "</table>\n",
       "</div>"
      ],
      "text/plain": [
       "   action_id  sessions  events  mean_steps  events_per_session\n",
       "24      2142      7305  192687   94.141712           26.377413\n",
       "31      2160     16052   82172   29.558974            5.119113\n",
       "4       2113     10680   78812   38.089415            7.379401\n",
       "95      8001     17614   42533   55.013025            2.414727\n",
       "1       2100     14466   31733   11.762613            2.193626\n",
       "80      2455      4618   28227   58.371134            6.112386\n",
       "7       2116      4753   26081   41.351252            5.487271\n",
       "56      2350     14355   24293   37.942041            1.692302\n",
       "61      2358     11712   23359   39.442142            1.994450\n",
       "6       2115      3143   20861   45.522890            6.637289\n",
       "57      2351      3496   20027   46.970390            5.728547\n",
       "65      2371      1049   19606   75.276599           18.690181\n",
       "3       2111      2846   18570   42.231395            6.524947\n",
       "49      2306     14039   16659   21.759409            1.186623\n",
       "8       2119      3970   13379   52.671052            3.370025\n",
       "5       2114      2145   11397   49.625252            5.313287\n",
       "29      2155      3679   10515   66.175939            2.858114\n",
       "67      2375      2976   10209   41.486434            3.430444\n",
       "10      2121      2714    7364   56.337724            2.713338\n",
       "47      2296      3430    7300   87.488904            2.128280"
      ]
     },
     "execution_count": 213,
     "metadata": {},
     "output_type": "execute_result"
    }
   ],
   "source": [
    "## Top 20 actions of sessions with Conversions\n",
    "df_conv_sessions_agg['events_per_session'] = df_conv_sessions_agg['events']/df_conv_sessions_agg['sessions']\n",
    "df_conv_sessions_agg.head(20)"
   ]
  },
  {
   "cell_type": "code",
   "execution_count": null,
   "id": "5e14fa0f",
   "metadata": {},
   "outputs": [],
   "source": []
  },
  {
   "cell_type": "code",
   "execution_count": 214,
   "id": "bf8ba60a",
   "metadata": {},
   "outputs": [],
   "source": [
    "## Creating a dataframe for sessions with no conversions\n",
    "df_no_conv_sessions = df_task2[~df_task2.session_id.isin(conv_session_ids)]"
   ]
  },
  {
   "cell_type": "code",
   "execution_count": 215,
   "id": "a6fa82fc",
   "metadata": {},
   "outputs": [
    {
     "data": {
      "text/html": [
       "<div>\n",
       "<style scoped>\n",
       "    .dataframe tbody tr th:only-of-type {\n",
       "        vertical-align: middle;\n",
       "    }\n",
       "\n",
       "    .dataframe tbody tr th {\n",
       "        vertical-align: top;\n",
       "    }\n",
       "\n",
       "    .dataframe thead th {\n",
       "        text-align: right;\n",
       "    }\n",
       "</style>\n",
       "<table border=\"1\" class=\"dataframe\">\n",
       "  <thead>\n",
       "    <tr style=\"text-align: right;\">\n",
       "      <th></th>\n",
       "      <th>session_id</th>\n",
       "      <th>tracking_id</th>\n",
       "      <th>date_id</th>\n",
       "      <th>action_id</th>\n",
       "      <th>action_reference</th>\n",
       "      <th>step</th>\n",
       "    </tr>\n",
       "  </thead>\n",
       "  <tbody>\n",
       "    <tr>\n",
       "      <th>0</th>\n",
       "      <td>2022051219047047198</td>\n",
       "      <td>W3ZTG14L5L</td>\n",
       "      <td>2022051219051031064</td>\n",
       "      <td>2113</td>\n",
       "      <td>38715</td>\n",
       "      <td>27</td>\n",
       "    </tr>\n",
       "    <tr>\n",
       "      <th>2</th>\n",
       "      <td>2022051219047047198</td>\n",
       "      <td>W3ZTG14L5L</td>\n",
       "      <td>2022051219051031871</td>\n",
       "      <td>2160</td>\n",
       "      <td>62</td>\n",
       "      <td>28</td>\n",
       "    </tr>\n",
       "    <tr>\n",
       "      <th>4</th>\n",
       "      <td>2022051219047047198</td>\n",
       "      <td>W3ZTG14L5L</td>\n",
       "      <td>2022051219051051853</td>\n",
       "      <td>2113</td>\n",
       "      <td>38715</td>\n",
       "      <td>29</td>\n",
       "    </tr>\n",
       "    <tr>\n",
       "      <th>6</th>\n",
       "      <td>2022051219047047198</td>\n",
       "      <td>W3ZTG14L5L</td>\n",
       "      <td>2022051219051052502</td>\n",
       "      <td>2160</td>\n",
       "      <td>63</td>\n",
       "      <td>30</td>\n",
       "    </tr>\n",
       "    <tr>\n",
       "      <th>8</th>\n",
       "      <td>2022051219047047198</td>\n",
       "      <td>W3ZTG14L5L</td>\n",
       "      <td>2022051219051078292</td>\n",
       "      <td>2113</td>\n",
       "      <td>38715</td>\n",
       "      <td>31</td>\n",
       "    </tr>\n",
       "  </tbody>\n",
       "</table>\n",
       "</div>"
      ],
      "text/plain": [
       "            session_id tracking_id              date_id action_id  \\\n",
       "0  2022051219047047198  W3ZTG14L5L  2022051219051031064      2113   \n",
       "2  2022051219047047198  W3ZTG14L5L  2022051219051031871      2160   \n",
       "4  2022051219047047198  W3ZTG14L5L  2022051219051051853      2113   \n",
       "6  2022051219047047198  W3ZTG14L5L  2022051219051052502      2160   \n",
       "8  2022051219047047198  W3ZTG14L5L  2022051219051078292      2113   \n",
       "\n",
       "  action_reference  step  \n",
       "0            38715    27  \n",
       "2               62    28  \n",
       "4            38715    29  \n",
       "6               63    30  \n",
       "8            38715    31  "
      ]
     },
     "execution_count": 215,
     "metadata": {},
     "output_type": "execute_result"
    }
   ],
   "source": [
    "df_no_conv_sessions.head()"
   ]
  },
  {
   "cell_type": "code",
   "execution_count": 216,
   "id": "8cc5a6cb",
   "metadata": {},
   "outputs": [],
   "source": [
    "## Aggregating on action id\n",
    "df_no_conv_sessions_agg = df_no_conv_sessions.groupby(['action_id']).agg({'session_id':'nunique','date_id':'nunique','step':'mean'}).reset_index()"
   ]
  },
  {
   "cell_type": "code",
   "execution_count": 217,
   "id": "c1a977f6",
   "metadata": {},
   "outputs": [],
   "source": [
    "df_no_conv_sessions_agg.rename({'session_id':'sessions','date_id':'events','step':'mean_steps'},axis=1,inplace=True)"
   ]
  },
  {
   "cell_type": "code",
   "execution_count": 218,
   "id": "6adcf0f7",
   "metadata": {},
   "outputs": [],
   "source": [
    "df_no_conv_sessions_agg['events_per_session'] = df_no_conv_sessions_agg['events']/df_no_conv_sessions_agg['sessions']"
   ]
  },
  {
   "cell_type": "code",
   "execution_count": 219,
   "id": "8c0daac0",
   "metadata": {},
   "outputs": [],
   "source": [
    "df_no_conv_sessions_agg.sort_values('events',ascending = False,inplace=True)"
   ]
  },
  {
   "cell_type": "code",
   "execution_count": 220,
   "id": "915a83ed",
   "metadata": {},
   "outputs": [],
   "source": [
    "df_no_conv_sessions_agg['session_type'] = 'no_conversion'\n",
    "df_conv_sessions_agg['session_type'] = 'conversion'"
   ]
  },
  {
   "cell_type": "code",
   "execution_count": 221,
   "id": "1dd0e3dc",
   "metadata": {},
   "outputs": [],
   "source": [
    "df_session_metrics_comparison = pd.concat([df_conv_sessions_agg,df_no_conv_sessions_agg],ignore_index=True)"
   ]
  },
  {
   "cell_type": "code",
   "execution_count": 226,
   "id": "ed9267fe",
   "metadata": {},
   "outputs": [],
   "source": [
    "top_actions = list(df_conv_sessions_agg.head(10)['action_id'].unique())"
   ]
  },
  {
   "cell_type": "code",
   "execution_count": 227,
   "id": "072343f1",
   "metadata": {},
   "outputs": [],
   "source": [
    "top_actions = df_session_metrics_comparison[df_session_metrics_comparison['action_id'].isin(top_actions)]"
   ]
  },
  {
   "cell_type": "code",
   "execution_count": 228,
   "id": "18ad2442",
   "metadata": {},
   "outputs": [
    {
     "data": {
      "text/html": [
       "<div>\n",
       "<style scoped>\n",
       "    .dataframe tbody tr th:only-of-type {\n",
       "        vertical-align: middle;\n",
       "    }\n",
       "\n",
       "    .dataframe tbody tr th {\n",
       "        vertical-align: top;\n",
       "    }\n",
       "\n",
       "    .dataframe thead th {\n",
       "        text-align: right;\n",
       "    }\n",
       "</style>\n",
       "<table border=\"1\" class=\"dataframe\">\n",
       "  <thead>\n",
       "    <tr style=\"text-align: right;\">\n",
       "      <th></th>\n",
       "      <th>action_id</th>\n",
       "      <th>sessions</th>\n",
       "      <th>events</th>\n",
       "      <th>mean_steps</th>\n",
       "      <th>events_per_session</th>\n",
       "      <th>session_type</th>\n",
       "    </tr>\n",
       "  </thead>\n",
       "  <tbody>\n",
       "    <tr>\n",
       "      <th>0</th>\n",
       "      <td>2142</td>\n",
       "      <td>7305</td>\n",
       "      <td>192687</td>\n",
       "      <td>94.141712</td>\n",
       "      <td>26.377413</td>\n",
       "      <td>conversion</td>\n",
       "    </tr>\n",
       "    <tr>\n",
       "      <th>1</th>\n",
       "      <td>2160</td>\n",
       "      <td>16052</td>\n",
       "      <td>82172</td>\n",
       "      <td>29.558974</td>\n",
       "      <td>5.119113</td>\n",
       "      <td>conversion</td>\n",
       "    </tr>\n",
       "    <tr>\n",
       "      <th>2</th>\n",
       "      <td>2113</td>\n",
       "      <td>10680</td>\n",
       "      <td>78812</td>\n",
       "      <td>38.089415</td>\n",
       "      <td>7.379401</td>\n",
       "      <td>conversion</td>\n",
       "    </tr>\n",
       "    <tr>\n",
       "      <th>3</th>\n",
       "      <td>8001</td>\n",
       "      <td>17614</td>\n",
       "      <td>42533</td>\n",
       "      <td>55.013025</td>\n",
       "      <td>2.414727</td>\n",
       "      <td>conversion</td>\n",
       "    </tr>\n",
       "    <tr>\n",
       "      <th>4</th>\n",
       "      <td>2100</td>\n",
       "      <td>14466</td>\n",
       "      <td>31733</td>\n",
       "      <td>11.762613</td>\n",
       "      <td>2.193626</td>\n",
       "      <td>conversion</td>\n",
       "    </tr>\n",
       "  </tbody>\n",
       "</table>\n",
       "</div>"
      ],
      "text/plain": [
       "  action_id  sessions  events  mean_steps  events_per_session session_type\n",
       "0      2142      7305  192687   94.141712           26.377413   conversion\n",
       "1      2160     16052   82172   29.558974            5.119113   conversion\n",
       "2      2113     10680   78812   38.089415            7.379401   conversion\n",
       "3      8001     17614   42533   55.013025            2.414727   conversion\n",
       "4      2100     14466   31733   11.762613            2.193626   conversion"
      ]
     },
     "execution_count": 228,
     "metadata": {},
     "output_type": "execute_result"
    }
   ],
   "source": [
    "top_actions.head()"
   ]
  },
  {
   "cell_type": "code",
   "execution_count": 233,
   "id": "02b7690f",
   "metadata": {},
   "outputs": [
    {
     "name": "stderr",
     "output_type": "stream",
     "text": [
      "/var/folders/zb/63y1717919g6xzzntmcglcvw0000gn/T/ipykernel_18883/1513564000.py:4: SettingWithCopyWarning: \n",
      "A value is trying to be set on a copy of a slice from a DataFrame.\n",
      "Try using .loc[row_indexer,col_indexer] = value instead\n",
      "\n",
      "See the caveats in the documentation: https://pandas.pydata.org/pandas-docs/stable/user_guide/indexing.html#returning-a-view-versus-a-copy\n",
      "  top_actions['mean_steps'] = top_actions['mean_steps'].round(1)\n",
      "/var/folders/zb/63y1717919g6xzzntmcglcvw0000gn/T/ipykernel_18883/1513564000.py:5: SettingWithCopyWarning: \n",
      "A value is trying to be set on a copy of a slice from a DataFrame.\n",
      "Try using .loc[row_indexer,col_indexer] = value instead\n",
      "\n",
      "See the caveats in the documentation: https://pandas.pydata.org/pandas-docs/stable/user_guide/indexing.html#returning-a-view-versus-a-copy\n",
      "  top_actions['events_per_session'] = top_actions['events_per_session'].round(1)\n"
     ]
    },
    {
     "data": {
      "image/png": "[encoded data removed]",
      "text/plain": [
       "<Figure size 1440x720 with 2 Axes>"
      ]
     },
     "metadata": {},
     "output_type": "display_data"
    }
   ],
   "source": [
    "sns.set(style=\"whitegrid\")\n",
    "top_actions['mean_steps'] = top_actions['mean_steps'].round(1)\n",
    "top_actions['events_per_session'] = top_actions['events_per_session'].round(1)\n",
    "\n",
    "# Create a figure with subplots\n",
    "fig, axes = plt.subplots(2, 1, figsize=(20, 10), sharex=True)\n",
    "\n",
    "# Plot 1 - Bar Chart for 'Events per session'\n",
    "sns.barplot(x='action_id', y='events_per_session', hue='session_type', data=top_actions, palette='Set1', ax=axes[0])\n",
    "axes[0].set_title('Events Per Session by Action ID and Session Type')\n",
    "axes[0].set_xlabel('Action ID')\n",
    "axes[0].set_ylabel('Events Per Session')\n",
    "handles, labels = axes[0].get_legend_handles_labels()\n",
    "axes[0].legend(handles=handles, labels=labels, title='Session Type', loc='best')\n",
    "\n",
    "# Annotate each bar with its corresponding y-value\n",
    "for p in axes[0].patches:\n",
    "    axes[0].annotate(f'{p.get_height()}', (p.get_x() + p.get_width() / 2., p.get_height()), ha='center', va='center', fontsize=12, color='black', xytext=(0, 5), textcoords='offset points')\n",
    "\n",
    "# Plot 2 - Bar Chart for 'cor'\n",
    "sns.barplot(x='action_id', y='mean_steps', hue='session_type',data=top_actions, palette='Set1', ax=axes[1])\n",
    "axes[1].set_title('Mean Steps by Action Id and Session Type')\n",
    "axes[1].set_ylabel('Mean Steps')\n",
    "axes[1].set_xlabel('Action ID')\n",
    "axes[1].legend(handles=handles, labels=labels, title='Session Type', loc='best')\n",
    "\n",
    "for p in axes[1].patches:\n",
    "    axes[1].annotate(f'{p.get_height()}', (p.get_x() + p.get_width() / 2., p.get_height()), ha='center', va='center', fontsize=12, color='black', xytext=(0, 5), textcoords='offset points')\n",
    "\n",
    "# Plot 3 - Bar Chart for 'avg_session_duration'\n",
    "\n",
    "plt.tight_layout()\n",
    "plt.show()\n"
   ]
  },
  {
   "cell_type": "markdown",
   "id": "68b082d4",
   "metadata": {},
   "source": [
    "* The most common actions in sessions with conversions are action IDs 2142, 2160, 2113, 8001 (a Conversion Action), and 2100.\n",
    "* Action ID 2142 likely involves viewing content items, and having more of this action is beneficial for conversions.\n",
    "* The bar chart suggests that increasing events per session can boost conversions. This can be achieved by offering users more and improved filters and property listings. As a result, users tend to spend more time on the site, which increases the mean steps of the session and ultimately leads to better conversions."
   ]
  },
  {
   "cell_type": "code",
   "execution_count": null,
   "id": "2c7328f0",
   "metadata": {},
   "outputs": [],
   "source": []
  }
 ],
 "metadata": {
  "kernelspec": {
   "display_name": "Python 3 (ipykernel)",
   "language": "python",
   "name": "python3"
  },
  "language_info": {
   "codemirror_mode": {
    "name": "ipython",
    "version": 3
   },
   "file_extension": ".py",
   "mimetype": "text/x-python",
   "name": "python",
   "nbconvert_exporter": "python",
   "pygments_lexer": "ipython3",
   "version": "3.9.7"
  }
 },
 "nbformat": 4,
 "nbformat_minor": 5
}
